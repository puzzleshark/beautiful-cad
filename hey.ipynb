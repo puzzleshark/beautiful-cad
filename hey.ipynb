{
 "cells": [
  {
   "cell_type": "code",
   "execution_count": null,
   "metadata": {},
   "outputs": [],
   "source": [
    "import cadquery as cq\n",
    "import jupyter_cadquery\n",
    "\n",
    "\n",
    "cq.Workplane().box(5, 5, 5)"
   ]
  },
  {
   "cell_type": "code",
   "execution_count": 8,
   "metadata": {},
   "outputs": [
    {
     "ename": "AttributeError",
     "evalue": "'Compound' object has no attribute 'hole'",
     "output_type": "error",
     "traceback": [
      "\u001b[0;31m---------------------------------------------------------------------------\u001b[0m",
      "\u001b[0;31mAttributeError\u001b[0m                            Traceback (most recent call last)",
      "\u001b[1;32m/home/sam/Projects/beautifulcad/hey.ipynb Cell 2'\u001b[0m in \u001b[0;36m<cell line: 5>\u001b[0;34m()\u001b[0m\n\u001b[1;32m      <a href='vscode-notebook-cell:/home/sam/Projects/beautifulcad/hey.ipynb#ch0000001?line=7'>8</a>\u001b[0m     bh \u001b[39m=\u001b[39m b\n\u001b[1;32m      <a href='vscode-notebook-cell:/home/sam/Projects/beautifulcad/hey.ipynb#ch0000001?line=8'>9</a>\u001b[0m     \u001b[39mfor\u001b[39;00m f \u001b[39min\u001b[39;00m faces:\n\u001b[0;32m---> <a href='vscode-notebook-cell:/home/sam/Projects/beautifulcad/hey.ipynb#ch0000001?line=9'>10</a>\u001b[0m         \u001b[39mwith\u001b[39;00m beautifulcad\u001b[39m.\u001b[39mcontext\u001b[39m.\u001b[39mCoords(f\u001b[39m.\u001b[39mplane): bh \u001b[39m=\u001b[39m bh\u001b[39m.\u001b[39mhole(\u001b[39m1\u001b[39m, \u001b[39m10\u001b[39m)\n\u001b[1;32m     <a href='vscode-notebook-cell:/home/sam/Projects/beautifulcad/hey.ipynb#ch0000001?line=10'>11</a>\u001b[0m bh\n",
      "\u001b[0;31mAttributeError\u001b[0m: 'Compound' object has no attribute 'hole'"
     ]
    }
   ],
   "source": [
    "import beautifulcad\n",
    "import beautifulcad.context\n",
    "import beautifulcad.shapes\n",
    "\n",
    "with beautifulcad.context.Coords():\n",
    "    b = beautifulcad.shapes.Box(5, 5, 5)\n",
    "    faces = b.faces()\n",
    "    bh = b\n",
    "    for f in faces:\n",
    "        with beautifulcad.context.Coords(f.plane):\n",
    "            bh = bh.hole(1, 10)\n",
    "bh"
   ]
  }
 ],
 "metadata": {
  "kernelspec": {
   "display_name": "Python 3.9.7 64-bit",
   "language": "python",
   "name": "python3"
  },
  "language_info": {
   "codemirror_mode": {
    "name": "ipython",
    "version": 3
   },
   "file_extension": ".py",
   "mimetype": "text/x-python",
   "name": "python",
   "nbconvert_exporter": "python",
   "pygments_lexer": "ipython3",
   "version": "3.10.4"
  },
  "orig_nbformat": 4,
  "vscode": {
   "interpreter": {
    "hash": "916dbcbb3f70747c44a77c7bcd40155683ae19c65e1c03b4aa3499c5328201f1"
   }
  }
 },
 "nbformat": 4,
 "nbformat_minor": 2
}
