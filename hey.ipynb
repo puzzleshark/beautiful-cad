{
 "cells": [
  {
   "cell_type": "code",
   "execution_count": null,
   "metadata": {},
   "outputs": [],
   "source": [
    "import cadquery as cq\n",
    "import jupyter_cadquery\n",
    "\n",
    "(\n",
    "    cq.Workplane()\n",
    "    .box(5, 5, 5)\n",
    "    .faces(\">Z\")\n",
    "    .edges(\">X\")\n",
    "    .fillet(1)\n",
    ")"
   ]
  },
  {
   "cell_type": "code",
   "execution_count": 2,
   "metadata": {},
   "outputs": [
    {
     "name": "stdout",
     "output_type": "stream",
     "text": [
      " \n"
     ]
    },
    {
     "data": {
      "application/vnd.jupyter.widget-view+json": {
       "model_id": "85f5c296bfc0442d8097db35999b03d8",
       "version_major": 2,
       "version_minor": 0
      },
      "text/plain": [
       "CadViewerWidget(anchor=None, cad_width=800, height=600, pinning=False, theme='light', title=None, tree_width=2…"
      ]
     },
     "metadata": {},
     "output_type": "display_data"
    },
    {
     "data": {
      "text/html": [
       "<div></div>"
      ],
      "text/plain": [
       "<IPython.core.display.HTML object>"
      ]
     },
     "metadata": {},
     "output_type": "display_data"
    }
   ],
   "source": [
    "import beautifulcad\n",
    "\n",
    "with beautifulcad.part(\"front\") as bench:\n",
    "    box = bench.box(5, 5, 5)\n",
    "    with box.face(\">Z\").shapes_workbench() as bench2:\n",
    "        c = bench2.circle(2.2)\n",
    "        r = bench2.rect(4, 4)\n",
    "        ok = c + r\n",
    "    ok.extrude(1)\n",
    "\n",
    "bench"
   ]
  }
 ],
 "metadata": {
  "kernelspec": {
   "display_name": "Python 3.10.4 64-bit",
   "language": "python",
   "name": "python3"
  },
  "language_info": {
   "codemirror_mode": {
    "name": "ipython",
    "version": 3
   },
   "file_extension": ".py",
   "mimetype": "text/x-python",
   "name": "python",
   "nbconvert_exporter": "python",
   "pygments_lexer": "ipython3",
   "version": "3.10.4"
  },
  "orig_nbformat": 4,
  "vscode": {
   "interpreter": {
    "hash": "916dbcbb3f70747c44a77c7bcd40155683ae19c65e1c03b4aa3499c5328201f1"
   }
  }
 },
 "nbformat": 4,
 "nbformat_minor": 2
}
