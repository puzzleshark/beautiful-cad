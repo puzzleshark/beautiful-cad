{
 "cells": [
  {
   "cell_type": "code",
   "execution_count": 1,
   "metadata": {},
   "outputs": [
    {
     "name": "stdout",
     "output_type": "stream",
     "text": [
      "Overwriting auto display for cadquery Workplane and Shape\n",
      " \n"
     ]
    },
    {
     "data": {
      "application/vnd.jupyter.widget-view+json": {
       "model_id": "c36ab40e223a460a956b5b6f7f396a00",
       "version_major": 2,
       "version_minor": 0
      },
      "text/plain": [
       "CadViewerWidget(anchor=None, cad_width=800, height=600, pinning=False, theme='light', title=None, tree_width=2…"
      ]
     },
     "metadata": {},
     "output_type": "display_data"
    },
    {
     "data": {
      "text/html": [
       "<div></div>"
      ],
      "text/plain": [
       "<IPython.core.display.HTML object>"
      ]
     },
     "metadata": {},
     "output_type": "display_data"
    }
   ],
   "source": [
    "import cadquery as cq\n",
    "import jupyter_cadquery\n",
    "\n",
    "\n",
    "cq.Workplane().box(5, 5, 5)"
   ]
  },
  {
   "cell_type": "code",
   "execution_count": 2,
   "metadata": {},
   "outputs": [
    {
     "ename": "TypeError",
     "evalue": "Context.add() takes 1 positional argument but 2 were given",
     "output_type": "error",
     "traceback": [
      "\u001b[0;31m---------------------------------------------------------------------------\u001b[0m",
      "\u001b[0;31mTypeError\u001b[0m                                 Traceback (most recent call last)",
      "\u001b[1;32m/home/sam/Projects/beautifulcad/hey.ipynb Cell 2'\u001b[0m in \u001b[0;36m<cell line: 5>\u001b[0;34m()\u001b[0m\n\u001b[1;32m      <a href='vscode-notebook-cell:/home/sam/Projects/beautifulcad/hey.ipynb#ch0000001?line=2'>3</a>\u001b[0m \u001b[39mimport\u001b[39;00m \u001b[39mbeautifulcad\u001b[39;00m\u001b[39m.\u001b[39;00m\u001b[39mshapes\u001b[39;00m\n\u001b[1;32m      <a href='vscode-notebook-cell:/home/sam/Projects/beautifulcad/hey.ipynb#ch0000001?line=4'>5</a>\u001b[0m \u001b[39mwith\u001b[39;00m beautifulcad\u001b[39m.\u001b[39mcontext\u001b[39m.\u001b[39mCoords() \u001b[39mas\u001b[39;00m p:\n\u001b[0;32m----> <a href='vscode-notebook-cell:/home/sam/Projects/beautifulcad/hey.ipynb#ch0000001?line=5'>6</a>\u001b[0m     b \u001b[39m=\u001b[39m beautifulcad\u001b[39m.\u001b[39;49mshapes\u001b[39m.\u001b[39;49mBox(\u001b[39m5\u001b[39;49m, \u001b[39m5\u001b[39;49m, \u001b[39m5\u001b[39;49m)\n\u001b[1;32m      <a href='vscode-notebook-cell:/home/sam/Projects/beautifulcad/hey.ipynb#ch0000001?line=7'>8</a>\u001b[0m p\n",
      "File \u001b[0;32m~/Projects/beautifulcad/beautifulcad/shapes.py:48\u001b[0m, in \u001b[0;36mBox.__init__\u001b[0;34m(self, l, w, h)\u001b[0m\n\u001b[1;32m     47\u001b[0m \u001b[39mdef\u001b[39;00m \u001b[39m__init__\u001b[39m(\u001b[39mself\u001b[39m, l, w, h):\n\u001b[0;32m---> 48\u001b[0m     \u001b[39msuper\u001b[39;49m()\u001b[39m.\u001b[39;49m\u001b[39m__init__\u001b[39;49m(CQSolid\u001b[39m.\u001b[39;49mmakeBox(l, w, h))\n",
      "File \u001b[0;32m~/Projects/beautifulcad/beautifulcad/shapes.py:20\u001b[0m, in \u001b[0;36mShape.__init__\u001b[0;34m(self, cq_shape, moved)\u001b[0m\n\u001b[1;32m     16\u001b[0m \u001b[39mif\u001b[39;00m \u001b[39mnot\u001b[39;00m moved:\n\u001b[1;32m     17\u001b[0m     cq_shape\u001b[39m.\u001b[39mmove(\u001b[39mself\u001b[39m\u001b[39m.\u001b[39mctx\u001b[39m.\u001b[39mplane\u001b[39m.\u001b[39mlocation)\n\u001b[0;32m---> 20\u001b[0m \u001b[39mself\u001b[39;49m\u001b[39m.\u001b[39;49mctx\u001b[39m.\u001b[39;49madd(\u001b[39mself\u001b[39;49m)\n",
      "\u001b[0;31mTypeError\u001b[0m: Context.add() takes 1 positional argument but 2 were given"
     ]
    }
   ],
   "source": [
    "import beautifulcad\n",
    "import beautifulcad.context\n",
    "import beautifulcad.shapes\n",
    "\n",
    "with beautifulcad.context.Coords() as p:\n",
    "    b = beautifulcad.shapes.Box(5, 5, 5)\n",
    "\n",
    "p"
   ]
  }
 ],
 "metadata": {
  "kernelspec": {
   "display_name": "Python 3.9.7 64-bit",
   "language": "python",
   "name": "python3"
  },
  "language_info": {
   "codemirror_mode": {
    "name": "ipython",
    "version": 3
   },
   "file_extension": ".py",
   "mimetype": "text/x-python",
   "name": "python",
   "nbconvert_exporter": "python",
   "pygments_lexer": "ipython3",
   "version": "3.10.4"
  },
  "orig_nbformat": 4,
  "vscode": {
   "interpreter": {
    "hash": "916dbcbb3f70747c44a77c7bcd40155683ae19c65e1c03b4aa3499c5328201f1"
   }
  }
 },
 "nbformat": 4,
 "nbformat_minor": 2
}
