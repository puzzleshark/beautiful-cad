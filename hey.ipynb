{
 "cells": [
  {
   "cell_type": "code",
   "execution_count": null,
   "metadata": {},
   "outputs": [],
   "source": [
    "import cadquery as cq\n",
    "import jupyter_cadquery\n",
    "\n",
    "\n",
    "cq.Workplane().box(5, 5, 5)"
   ]
  },
  {
   "cell_type": "code",
   "execution_count": 1,
   "metadata": {},
   "outputs": [
    {
     "name": "stdout",
     "output_type": "stream",
     "text": [
      "Overwriting auto display for cadquery Workplane and Shape\n"
     ]
    },
    {
     "ename": "AttributeError",
     "evalue": "'Box' object has no attribute 'ctx'",
     "output_type": "error",
     "traceback": [
      "\u001b[0;31m---------------------------------------------------------------------------\u001b[0m",
      "\u001b[0;31mAttributeError\u001b[0m                            Traceback (most recent call last)",
      "\u001b[1;32m/home/sam/Projects/beautifulcad/hey.ipynb Cell 2'\u001b[0m in \u001b[0;36m<cell line: 5>\u001b[0;34m()\u001b[0m\n\u001b[1;32m      <a href='vscode-notebook-cell:/home/sam/Projects/beautifulcad/hey.ipynb#ch0000001?line=2'>3</a>\u001b[0m \u001b[39mimport\u001b[39;00m \u001b[39mbeautifulcad\u001b[39;00m\u001b[39m.\u001b[39;00m\u001b[39mshapes\u001b[39;00m\n\u001b[1;32m      <a href='vscode-notebook-cell:/home/sam/Projects/beautifulcad/hey.ipynb#ch0000001?line=4'>5</a>\u001b[0m \u001b[39mwith\u001b[39;00m beautifulcad\u001b[39m.\u001b[39mcontext\u001b[39m.\u001b[39mCoords():\n\u001b[0;32m----> <a href='vscode-notebook-cell:/home/sam/Projects/beautifulcad/hey.ipynb#ch0000001?line=5'>6</a>\u001b[0m     b \u001b[39m=\u001b[39m beautifulcad\u001b[39m.\u001b[39;49mshapes\u001b[39m.\u001b[39;49mBox(\u001b[39m5\u001b[39;49m, \u001b[39m5\u001b[39;49m, \u001b[39m5\u001b[39;49m)\n\u001b[1;32m      <a href='vscode-notebook-cell:/home/sam/Projects/beautifulcad/hey.ipynb#ch0000001?line=6'>7</a>\u001b[0m     faces \u001b[39m=\u001b[39m b\u001b[39m.\u001b[39mfaces()\n\u001b[1;32m      <a href='vscode-notebook-cell:/home/sam/Projects/beautifulcad/hey.ipynb#ch0000001?line=7'>8</a>\u001b[0m     bh \u001b[39m=\u001b[39m b\n",
      "File \u001b[0;32m~/Projects/beautifulcad/beautifulcad/shapes.py:45\u001b[0m, in \u001b[0;36mBox.__init__\u001b[0;34m(self, l, w, h)\u001b[0m\n\u001b[1;32m     44\u001b[0m \u001b[39mdef\u001b[39;00m \u001b[39m__init__\u001b[39m(\u001b[39mself\u001b[39m, l, w, h):\n\u001b[0;32m---> 45\u001b[0m     \u001b[39msuper\u001b[39m()\u001b[39m.\u001b[39m\u001b[39m__init__\u001b[39m(CQSolid\u001b[39m.\u001b[39mmakeBox(l, w, h)\u001b[39m.\u001b[39mmove(\u001b[39mself\u001b[39;49m\u001b[39m.\u001b[39;49mctx\u001b[39m.\u001b[39mplane\u001b[39m.\u001b[39mlocation))\n",
      "\u001b[0;31mAttributeError\u001b[0m: 'Box' object has no attribute 'ctx'"
     ]
    }
   ],
   "source": [
    "import beautifulcad\n",
    "import beautifulcad.context\n",
    "import beautifulcad.shapes\n",
    "\n",
    "with beautifulcad.context.Coords():\n",
    "    b = beautifulcad.shapes.Box(5, 5, 5)\n",
    "    faces = b.faces()\n",
    "    bh = b\n",
    "    for f in faces:\n",
    "        with beautifulcad.context.Coords(f.plane):\n",
    "            bh = bh.hole(1, 10)\n",
    "bh"
   ]
  }
 ],
 "metadata": {
  "kernelspec": {
   "display_name": "Python 3.9.7 64-bit",
   "language": "python",
   "name": "python3"
  },
  "language_info": {
   "codemirror_mode": {
    "name": "ipython",
    "version": 3
   },
   "file_extension": ".py",
   "mimetype": "text/x-python",
   "name": "python",
   "nbconvert_exporter": "python",
   "pygments_lexer": "ipython3",
   "version": "3.10.4"
  },
  "orig_nbformat": 4,
  "vscode": {
   "interpreter": {
    "hash": "916dbcbb3f70747c44a77c7bcd40155683ae19c65e1c03b4aa3499c5328201f1"
   }
  }
 },
 "nbformat": 4,
 "nbformat_minor": 2
}
