{
 "cells": [
  {
   "cell_type": "code",
   "execution_count": null,
   "metadata": {},
   "outputs": [],
   "source": [
    "import cadquery as cq\n",
    "import jupyter_cadquery\n",
    "\n",
    "(\n",
    "    cq.Workplane()\n",
    "    .box(5, 5, 5)\n",
    "    .faces(\">Z\")\n",
    ")"
   ]
  },
  {
   "cell_type": "code",
   "execution_count": 4,
   "metadata": {},
   "outputs": [
    {
     "ename": "AttributeError",
     "evalue": "'Solid' object has no attribute 'normalAt'",
     "output_type": "error",
     "traceback": [
      "\u001b[0;31m---------------------------------------------------------------------------\u001b[0m",
      "\u001b[0;31mAttributeError\u001b[0m                            Traceback (most recent call last)",
      "\u001b[1;32m/Users/samuel/Projects/beautifulcad/hey.ipynb Cell 2'\u001b[0m in \u001b[0;36m<cell line: 5>\u001b[0;34m()\u001b[0m\n\u001b[1;32m      <a href='vscode-notebook-cell:/Users/samuel/Projects/beautifulcad/hey.ipynb#ch0000001?line=4'>5</a>\u001b[0m \u001b[39mwith\u001b[39;00m beautifulcad\u001b[39m.\u001b[39mcontext\u001b[39m.\u001b[39mCoords() \u001b[39mas\u001b[39;00m c:\n\u001b[1;32m      <a href='vscode-notebook-cell:/Users/samuel/Projects/beautifulcad/hey.ipynb#ch0000001?line=5'>6</a>\u001b[0m     b \u001b[39m=\u001b[39m beautifulcad\u001b[39m.\u001b[39mshapes\u001b[39m.\u001b[39mBox(\u001b[39m5\u001b[39m, \u001b[39m5\u001b[39m, \u001b[39m5\u001b[39m)\n\u001b[0;32m----> <a href='vscode-notebook-cell:/Users/samuel/Projects/beautifulcad/hey.ipynb#ch0000001?line=6'>7</a>\u001b[0m     \u001b[39mwith\u001b[39;00m b\u001b[39m.\u001b[39;49mface(\u001b[39m\"\u001b[39;49m\u001b[39m>Z\u001b[39;49m\u001b[39m\"\u001b[39;49m)\u001b[39m.\u001b[39;49mcoords():\n\u001b[1;32m      <a href='vscode-notebook-cell:/Users/samuel/Projects/beautifulcad/hey.ipynb#ch0000001?line=7'>8</a>\u001b[0m         b\u001b[39m.\u001b[39mhole(\u001b[39m3\u001b[39m)\n\u001b[1;32m     <a href='vscode-notebook-cell:/Users/samuel/Projects/beautifulcad/hey.ipynb#ch0000001?line=9'>10</a>\u001b[0m c\n",
      "File \u001b[0;32m~/Projects/beautifulcad/beautifulcad/shapes.py:101\u001b[0m, in \u001b[0;36mFace.coords\u001b[0;34m(self)\u001b[0m\n\u001b[1;32m    100\u001b[0m \u001b[39mdef\u001b[39;00m \u001b[39mcoords\u001b[39m(\u001b[39mself\u001b[39m):\n\u001b[0;32m--> 101\u001b[0m     \u001b[39mreturn\u001b[39;00m Coords(\u001b[39mself\u001b[39;49m\u001b[39m.\u001b[39;49mplane)\n",
      "File \u001b[0;32m~/Projects/beautifulcad/beautifulcad/shapes.py:74\u001b[0m, in \u001b[0;36mFace.plane\u001b[0;34m(self)\u001b[0m\n\u001b[1;32m     72\u001b[0m new_context \u001b[39m=\u001b[39m Context\u001b[39m.\u001b[39mcurrent()\n\u001b[1;32m     73\u001b[0m center \u001b[39m=\u001b[39m \u001b[39mself\u001b[39m\u001b[39m.\u001b[39m_face\u001b[39m.\u001b[39mCenter()\n\u001b[0;32m---> 74\u001b[0m normal \u001b[39m=\u001b[39m \u001b[39mself\u001b[39;49m\u001b[39m.\u001b[39;49m_face\u001b[39m.\u001b[39;49mnormalAt(center)\n\u001b[1;32m     76\u001b[0m \u001b[39mdef\u001b[39;00m \u001b[39m_computeXdir\u001b[39m(normal):\n\u001b[1;32m     77\u001b[0m     \u001b[39m\"\"\"\u001b[39;00m\n\u001b[1;32m     78\u001b[0m \u001b[39m    Figures out the X direction based on the given normal.\u001b[39;00m\n\u001b[1;32m     79\u001b[0m \u001b[39m    :param :normal The direction that's normal to the plane.\u001b[39;00m\n\u001b[1;32m     80\u001b[0m \u001b[39m    :type :normal A Vector\u001b[39;00m\n\u001b[1;32m     81\u001b[0m \u001b[39m    :return A vector representing the X direction.\u001b[39;00m\n\u001b[1;32m     82\u001b[0m \u001b[39m    \"\"\"\u001b[39;00m\n",
      "\u001b[0;31mAttributeError\u001b[0m: 'Solid' object has no attribute 'normalAt'"
     ]
    }
   ],
   "source": [
    "import beautifulcad as bc\n",
    "\n",
    "with bc.solids_workbench(\"front\") as bench:\n",
    "    print(\"hi\")"
   ]
  }
 ],
 "metadata": {
  "kernelspec": {
   "display_name": "Python 3.8.9 64-bit",
   "language": "python",
   "name": "python3"
  },
  "language_info": {
   "codemirror_mode": {
    "name": "ipython",
    "version": 3
   },
   "file_extension": ".py",
   "mimetype": "text/x-python",
   "name": "python",
   "nbconvert_exporter": "python",
   "pygments_lexer": "ipython3",
   "version": "3.8.9"
  },
  "orig_nbformat": 4,
  "vscode": {
   "interpreter": {
    "hash": "31f2aee4e71d21fbe5cf8b01ff0e069b9275f58929596ceb00d14d90e3e16cd6"
   }
  }
 },
 "nbformat": 4,
 "nbformat_minor": 2
}
