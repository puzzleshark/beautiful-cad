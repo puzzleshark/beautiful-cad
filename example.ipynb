{
 "cells": [
  {
   "cell_type": "code",
   "execution_count": 1,
   "metadata": {},
   "outputs": [
    {
     "name": "stdout",
     "output_type": "stream",
     "text": [
      "Overwriting auto display for cadquery Workplane and Shape\n"
     ]
    },
    {
     "ename": "TypeError",
     "evalue": "workbench() missing 1 required positional argument: 'plane'",
     "output_type": "error",
     "traceback": [
      "\u001b[0;31m---------------------------------------------------------------------------\u001b[0m",
      "\u001b[0;31mTypeError\u001b[0m                                 Traceback (most recent call last)",
      "\u001b[1;32m/home/sam/Projects/contextcad/example.ipynb Cell 1'\u001b[0m in \u001b[0;36m<cell line: 3>\u001b[0;34m()\u001b[0m\n\u001b[1;32m      <a href='vscode-notebook-cell:/home/sam/Projects/contextcad/example.ipynb#ch0000000?line=0'>1</a>\u001b[0m \u001b[39mimport\u001b[39;00m \u001b[39mcontextcad\u001b[39;00m\n\u001b[0;32m----> <a href='vscode-notebook-cell:/home/sam/Projects/contextcad/example.ipynb#ch0000000?line=2'>3</a>\u001b[0m \u001b[39mwith\u001b[39;00m contextcad\u001b[39m.\u001b[39;49mworkbench() \u001b[39mas\u001b[39;00m bench:\n\u001b[1;32m      <a href='vscode-notebook-cell:/home/sam/Projects/contextcad/example.ipynb#ch0000000?line=3'>4</a>\u001b[0m     \u001b[39mwith\u001b[39;00m bench\u001b[39m.\u001b[39mbuild3d() \u001b[39mas\u001b[39;00m b:\n\u001b[1;32m      <a href='vscode-notebook-cell:/home/sam/Projects/contextcad/example.ipynb#ch0000000?line=4'>5</a>\u001b[0m         box \u001b[39m=\u001b[39m b\u001b[39m.\u001b[39mbox(\u001b[39m5\u001b[39m, \u001b[39m5\u001b[39m, \u001b[39m5\u001b[39m)\n",
      "\u001b[0;31mTypeError\u001b[0m: workbench() missing 1 required positional argument: 'plane'"
     ]
    }
   ],
   "source": [
    "import contextcad\n",
    "\n",
    "with contextcad.workbench() as bench:\n",
    "    with bench.build3d() as b:\n",
    "        box = b.box(5, 5, 5)\n",
    "        face = box.face(\">Z\")\n",
    "        with face.build3d() as b:\n",
    "            box.hole(1)\n",
    "bench"
   ]
  }
 ],
 "metadata": {
  "kernelspec": {
   "display_name": "Python 3.10.4 64-bit",
   "language": "python",
   "name": "python3"
  },
  "language_info": {
   "codemirror_mode": {
    "name": "ipython",
    "version": 3
   },
   "file_extension": ".py",
   "mimetype": "text/x-python",
   "name": "python",
   "nbconvert_exporter": "python",
   "pygments_lexer": "ipython3",
   "version": "3.10.4"
  },
  "orig_nbformat": 4,
  "vscode": {
   "interpreter": {
    "hash": "916dbcbb3f70747c44a77c7bcd40155683ae19c65e1c03b4aa3499c5328201f1"
   }
  }
 },
 "nbformat": 4,
 "nbformat_minor": 2
}
