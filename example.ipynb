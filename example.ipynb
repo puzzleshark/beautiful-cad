{
 "cells": [
  {
   "cell_type": "code",
   "execution_count": 3,
   "metadata": {},
   "outputs": [
    {
     "data": {
      "application/vnd.jupyter.widget-view+json": {
       "model_id": "2deadeb66fa1464b832a89a5c69facd8",
       "version_major": 2,
       "version_minor": 0
      },
      "text/plain": [
       "CadViewerWidget(anchor=None, cad_width=800, glass=False, height=600, pinning=False, theme='light', title=None,…"
      ]
     },
     "metadata": {},
     "output_type": "display_data"
    },
    {
     "data": {
      "text/html": [
       "<div></div>"
      ],
      "text/plain": [
       "<IPython.core.display.HTML object>"
      ]
     },
     "metadata": {},
     "output_type": "display_data"
    }
   ],
   "source": [
    "import contextcad\n",
    "\n",
    "with contextcad.build() as w:\n",
    "    with w.build3d() as ctx:\n",
    "        box = ctx.box(5, 5, 5)\n",
    "        for face in box.faces(\"|Z\"):\n",
    "            with face.build2d() as ctx:\n",
    "                c = ctx.circle(1)\n",
    "            box += c.extrude(2)\n",
    "                # box += ctx.box(1, 1, 1)\n",
    "w"
   ]
  },
  {
   "cell_type": "code",
   "execution_count": null,
   "metadata": {},
   "outputs": [],
   "source": [
    "import cadquery as cq\n",
    "import jupyter_cadquery\n",
    "\n",
    "(\n",
    "    cq.Workplane()\n",
    "    .sketch()\n",
    "    .segment((-10, 0), (10, 0))\n",
    "    .segment((10, 30))\n",
    "    .arc(r)\n",
    ")"
   ]
  },
  {
   "cell_type": "code",
   "execution_count": null,
   "metadata": {},
   "outputs": [],
   "source": [
    "from build123d import *\n",
    "import jupyter_cadquery\n",
    "\n",
    "\n",
    "with BuildPart() as p:\n",
    "    Box(10, 10, 10)\n",
    "    WorkplanesFromFaces(*p.faces())\n",
    "    Hole(1)\n",
    "\n",
    "\n",
    "p.part"
   ]
  }
 ],
 "metadata": {
  "kernelspec": {
   "display_name": "Python 3.10.4 64-bit",
   "language": "python",
   "name": "python3"
  },
  "language_info": {
   "codemirror_mode": {
    "name": "ipython",
    "version": 3
   },
   "file_extension": ".py",
   "mimetype": "text/x-python",
   "name": "python",
   "nbconvert_exporter": "python",
   "pygments_lexer": "ipython3",
   "version": "3.10.4"
  },
  "orig_nbformat": 4,
  "vscode": {
   "interpreter": {
    "hash": "916dbcbb3f70747c44a77c7bcd40155683ae19c65e1c03b4aa3499c5328201f1"
   }
  }
 },
 "nbformat": 4,
 "nbformat_minor": 2
}
